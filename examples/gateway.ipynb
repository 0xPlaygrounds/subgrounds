{
 "cells": [
  {
   "attachments": {},
   "cell_type": "markdown",
   "metadata": {},
   "source": [
    "# Getting Started with Subgrounds and your Playgrounds Key\n",
    "\n",
    "Welcome to the Subgrounds tutorial! \n",
    "\n",
    "This Notebook will guide you through the process of setting up and using the Subgrounds library to interact with decentralized subgraphs utilizing your Playgrounds API Key. The notebook is designed to provide clear, step-by-step introductions.\n",
    "\n",
    "Feel free to adapt the provided code to your specific needs and explore different subgraphs and queries as you become more familiar with the library. Happy coding!\n"
   ]
  },
  {
   "attachments": {},
   "cell_type": "markdown",
   "metadata": {},
   "source": [
    "## Step 1: Setup Subgrounds\n",
    "Simply install and import `subgrounds` to construct the `Subgrounds` object!"
   ]
  },
  {
   "cell_type": "code",
   "execution_count": null,
   "metadata": {},
   "outputs": [],
   "source": [
    "%pip install subgrounds\n",
    "\n",
    "from subgrounds import Subgrounds\n",
    "sg = Subgrounds()"
   ]
  },
  {
   "attachments": {},
   "cell_type": "markdown",
   "metadata": {},
   "source": [
    "## Step 2: Obtain an API Key\n",
    "\n",
    "There are two ways to obtain an API Key:\n",
    "- [Via The Graph Network](https://thegraph.com/explorer)\n",
    "- Visiting [app.playgrounds.network](https://app.playgrounds.network/) to generate a personal API Key for querying decentralized subgraphs.\n",
    "\n",
    "Using the [app.playgrounds.network](https://app.playgrounds.network/) API Key method is much simpler and streamlined compared to the [The Graph Explorer](https://thegraph.com/explorer).\n"
   ]
  },
  {
   "attachments": {},
   "cell_type": "markdown",
   "metadata": {},
   "source": [
    "### Using The Graph API Key\n",
    "\n",
    "Learn how to use access and set up a Graph API Key here: ([The Graph Docs](https://thegraph.com/docs/en/network/explorer/)).\n",
    "When you obtain a Graph API Key, replace `your_api_key_here` with your actual API Key as shown below.\n"
   ]
  },
  {
   "cell_type": "code",
   "execution_count": null,
   "metadata": {},
   "outputs": [],
   "source": [
    "graph_api_key = \"your_api_key_here\"\n",
    "subgraph_url = sg.load_subgraph(\n",
    "    f\"https://gateway.thegraph.com/api/{graph_api_key}/subgraphs/id/ELUcwgpm14LKPLrBRuVvPvNKHQ9HvwmtKgKSH6123cr7\"\n",
    ")\n",
    "uni = sg.load_subgraph(subgraph_url)"
   ]
  },
  {
   "cell_type": "markdown",
   "metadata": {},
   "source": [
    "### Using the Playgrounds Gateway\n",
    "\n",
    "Although it is entirely possible to use the Playgrounds Gateway by directly sending requests with a valid Playgrounds API key, the Gateway is most useful when used with Subgrounds. This allows you to leverage Subgrounds and its features to query the Graph's decentralized network with ease. Below is an example of how to use Subgrounds with the decentralized network."
   ]
  },
  {
   "cell_type": "code",
   "execution_count": 1,
   "metadata": {},
   "outputs": [],
   "source": [
    "from subgrounds import Subgrounds\n",
    "\n",
    "sg = Subgrounds(headers={\"Playgrounds-Api-Key\": \"PG_API_KEY\"})"
   ]
  },
  {
   "attachments": {},
   "cell_type": "markdown",
   "metadata": {},
   "source": [
    "## Step 3: Query a decentralized network subgraph via Playgrounds Gateway\n",
    "\n",
    "Once the Subgrounds object has been initialized with the custom header containing your API key, you can query a decentralized network subgraph through our proxy endpoint just like you would query any other subgraph."
   ]
  },
  {
   "cell_type": "code",
   "execution_count": null,
   "metadata": {},
   "outputs": [],
   "source": [
    "subgraph = sg.load_subgraph(\"https://api.playgrounds.network/v1/proxy/subgraphs/id/ELUcwgpm14LKPLrBRuVvPvNKHQ9HvwmtKgKSH6123cr7\")\n",
    "\n",
    "sg.query_df([\n",
    "    subgraph.Query.tokens.id,\n",
    "    subgraph.Query.tokens.symbol,\n",
    "])"
   ]
  },
  {
   "attachments": {},
   "cell_type": "markdown",
   "metadata": {},
   "source": [
    "## Step 4: Construct a query\n",
    "\n",
    "In this example, we query the financialsDailySnapshots endpoint."
   ]
  },
  {
   "cell_type": "code",
   "execution_count": null,
   "metadata": {},
   "outputs": [],
   "source": [
    "latest_snapshots = subgraph.Query.financialsDailySnapshots(\n",
    "  orderBy = subgraph.FinancialsDailySnapshot.timestamp,\n",
    "  orderDirection = 'desc',\n",
    "  first = 1,\n",
    ")\n",
    "\n",
    "# The following is a generalized version of the query construction. Feel free to modify the parameters\n",
    "# and experiment with different queries to better understand the functionality.\n",
    "\n",
    "# Generalized query\n",
    "# latest_snapshots = uni.Query.financialsDailySnapshots(\n",
    "#   orderBy=ATTRIBUTE_TO_ORDER_BY,         # Replace with the desired attribute to order the results by\n",
    "#   orderDirection=ORDER_DIRECTION,        # 'asc' for ascending order or 'desc' for descending order\n",
    "#   first=NUMBER_OF_RESULTS,               # Specify the number of results you want to fetch\n",
    "#   additional_filter=FILTER_CONDITION,    # Optional: Add any additional filter conditions if needed\n",
    "# )\n"
   ]
  },
  {
   "attachments": {},
   "cell_type": "markdown",
   "metadata": {},
   "source": [
    "## Step 5: Execute the query and convert the results to a Pandas dataframe using subgrounds `sg.query_df([])`"
   ]
  },
  {
   "cell_type": "code",
   "execution_count": null,
   "metadata": {},
   "outputs": [],
   "source": [
    "results_df = sg.query_df([latest_snapshots])\n",
    "results_df\n"
   ]
  }
 ],
 "metadata": {
  "kernelspec": {
   "display_name": "Python 3.10.2 ('.venv': venv)",
   "language": "python",
   "name": "python3"
  },
  "language_info": {
   "codemirror_mode": {
    "name": "ipython",
    "version": 3
   },
   "file_extension": ".py",
   "mimetype": "text/x-python",
   "name": "python",
   "nbconvert_exporter": "python",
   "pygments_lexer": "ipython3",
   "version": "3.11.2"
  },
  "orig_nbformat": 4,
  "vscode": {
   "interpreter": {
    "hash": "d7aa3448851527b49d354d2668c681954f35847c838496ed479518c3ebc0d768"
   }
  }
 },
 "nbformat": 4,
 "nbformat_minor": 2
}
